{
 "cells": [
  {
   "cell_type": "code",
   "execution_count": 17,
   "id": "bf1faa48-f1c5-4d75-a410-1698d8390d22",
   "metadata": {},
   "outputs": [],
   "source": [
    "# Import necessary Libraries\n",
    "import pandas as pd\n",
    "from sklearn.feature_extraction.text import TfidfVectorizer\n",
    "from sklearn.metrics.pairwise import cosine_similarity\n",
    "from sklearn.preprocessing import MinMaxScaler\n",
    "import numpy as np"
   ]
  },
  {
   "cell_type": "code",
   "execution_count": 18,
   "id": "04a6efe8-297a-47c7-af75-8af99ce8c5f0",
   "metadata": {},
   "outputs": [],
   "source": [
    "# Load datasets\n",
    "customers = pd.read_csv(\"Customers.csv\")\n",
    "products = pd.read_csv(\"Products.csv\")\n",
    "transactions = pd.read_csv(\"Transactions.csv\")"
   ]
  },
  {
   "cell_type": "code",
   "execution_count": 19,
   "id": "a6ce24c3-56e1-4f49-9722-64e52e6e7b03",
   "metadata": {},
   "outputs": [],
   "source": [
    "# Merge datasets for feature engineering\n",
    "# Merge datasets for analysis\n",
    "merged_data = transactions.merge(customers, on=\"CustomerID\", how=\"left\")\n",
    "merged_data = merged_data.merge(products, on=\"ProductID\", how=\"left\")"
   ]
  },
  {
   "cell_type": "code",
   "execution_count": 20,
   "id": "04b6bba4-4b84-4902-9827-f01c5da181e4",
   "metadata": {},
   "outputs": [],
   "source": [
    "# Feature Engineering\n",
    "# Aggregate product preferences and transaction behavior for each customer\n",
    "customer_profiles = merged_data.groupby(\"CustomerID\").agg({\n",
    "    \"Category\": lambda x: \",\".join(x),  # Combine product categories as text\n",
    "    \"Price_y\": \"mean\",  # Average price of products purchased\n",
    "    \"TotalValue\": \"sum\",  # Total spending\n",
    "    \"Quantity\": \"sum\"  # Total quantity purchased\n",
    "}).reset_index()"
   ]
  },
  {
   "cell_type": "code",
   "execution_count": 21,
   "id": "a1fbc17d-0aac-4142-aafe-79eece627d85",
   "metadata": {},
   "outputs": [],
   "source": [
    "# Normalize numerical features\n",
    "scaler = MinMaxScaler()\n",
    "customer_profiles[[\"Price_y\", \"TotalValue\", \"Quantity\"]] = scaler.fit_transform(\n",
    "    customer_profiles[[\"Price_y\", \"TotalValue\", \"Quantity\"]]\n",
    ")"
   ]
  },
  {
   "cell_type": "code",
   "execution_count": 22,
   "id": "517d75d7-a976-4d6b-aad2-69002aceec01",
   "metadata": {},
   "outputs": [],
   "source": [
    "# Create textual features for TF-IDF\n",
    "tfidf_vectorizer = TfidfVectorizer()\n",
    "category_matrix = tfidf_vectorizer.fit_transform(customer_profiles[\"Category\"])"
   ]
  },
  {
   "cell_type": "code",
   "execution_count": 23,
   "id": "55826297-8667-4e9b-a0fe-a61777dc57d3",
   "metadata": {},
   "outputs": [],
   "source": [
    "# Combine textual and numerical features\n",
    "numerical_features = customer_profiles[[\"Price_y\", \"TotalValue\", \"Quantity\"]].values\n",
    "combined_features = np.hstack([category_matrix.toarray(), numerical_features])"
   ]
  },
  {
   "cell_type": "code",
   "execution_count": 24,
   "id": "69b92770-776d-404a-ae5d-4bbcd70df4f4",
   "metadata": {},
   "outputs": [],
   "source": [
    "# Calculate cosine similarity between customers\n",
    "similarity_matrix = cosine_similarity(combined_features)"
   ]
  },
  {
   "cell_type": "code",
   "execution_count": 25,
   "id": "bdefc966-def0-4e37-91c6-31932eeab9c9",
   "metadata": {},
   "outputs": [],
   "source": [
    "# Find top 3 similar customers for each customer\n",
    "lookalike_data = {}\n",
    "for i, customer_id in enumerate(customer_profiles[\"CustomerID\"]):\n",
    "    similarities = list(enumerate(similarity_matrix[i]))\n",
    "    similarities = sorted(similarities, key=lambda x: x[1], reverse=True)  # Sort by similarity\n",
    "    top_3 = [\n",
    "        (customer_profiles.iloc[j[0]][\"CustomerID\"], j[1])\n",
    "        for j in similarities if customer_profiles.iloc[j[0]][\"CustomerID\"] != customer_id\n",
    "    ][:3]  # Exclude the same customer and get top 3\n",
    "    lookalike_data[customer_id] = top_3"
   ]
  },
  {
   "cell_type": "code",
   "execution_count": 26,
   "id": "9a36bcfd-0ed8-4c60-be6a-8fa625c2330e",
   "metadata": {},
   "outputs": [],
   "source": [
    "# Create Lookalike.csv with top 20 customers\n",
    "lookalike_output = []\n",
    "for customer_id in customer_profiles[\"CustomerID\"][:20]:\n",
    "    recommendations = lookalike_data[customer_id]\n",
    "    lookalike_output.append({\n",
    "        \"CustomerID\": customer_id,\n",
    "        \"Lookalikes\": [{\"CustomerID\": rec[0], \"Score\": rec[1]} for rec in recommendations]\n",
    "    })"
   ]
  },
  {
   "cell_type": "code",
   "execution_count": 27,
   "id": "047ae569-ba7b-45b2-a378-a9ba69e03925",
   "metadata": {},
   "outputs": [],
   "source": [
    "# Convert to DataFrame\n",
    "lookalike_df = pd.DataFrame({\n",
    "    \"CustomerID\": [row[\"CustomerID\"] for row in lookalike_output],\n",
    "    \"Lookalikes\": [row[\"Lookalikes\"] for row in lookalike_output]\n",
    "})"
   ]
  },
  {
   "cell_type": "code",
   "execution_count": 28,
   "id": "8d1b4793-45b7-4bbf-9a66-19fa4657bacb",
   "metadata": {},
   "outputs": [],
   "source": [
    "# Save Lookalike.csv\n",
    "lookalike_df.to_csv(\"Lookalike.csv\", index=False)"
   ]
  }
 ],
 "metadata": {
  "kernelspec": {
   "display_name": "Python 3 (ipykernel)",
   "language": "python",
   "name": "python3"
  },
  "language_info": {
   "codemirror_mode": {
    "name": "ipython",
    "version": 3
   },
   "file_extension": ".py",
   "mimetype": "text/x-python",
   "name": "python",
   "nbconvert_exporter": "python",
   "pygments_lexer": "ipython3",
   "version": "3.11.7"
  }
 },
 "nbformat": 4,
 "nbformat_minor": 5
}
